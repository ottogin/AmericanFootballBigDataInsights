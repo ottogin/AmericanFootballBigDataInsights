{
 "cells": [
  {
   "cell_type": "markdown",
   "metadata": {},
   "source": [
    "# American Footbal Big Data Insights\n",
    "\n",
    "In this notebook we explore the data pro\n",
    "vided on the kaggle competition \"[NFL Big Data Bowl](https://www.kaggle.com/c/nfl-big-data-bowl-2020/data)\".\n",
    "The data describes 512 American Football games and definetely contains a lot of insights!\n",
    "So, to start let's understand how to play American Football!"
   ]
  },
  {
   "cell_type": "markdown",
   "metadata": {},
   "source": [
    "## The Rules"
   ]
  },
  {
   "cell_type": "markdown",
   "metadata": {},
   "source": [
    "bla bla\n",
    "\n",
    "Now, we are ready to take a look on the data!"
   ]
  },
  {
   "cell_type": "markdown",
   "metadata": {},
   "source": [
    "## First look on the data"
   ]
  },
  {
   "cell_type": "code",
   "execution_count": 137,
   "metadata": {},
   "outputs": [
    {
     "name": "stdout",
     "output_type": "stream",
     "text": [
      "The autoreload extension is already loaded. To reload it, use:\n",
      "  %reload_ext autoreload\n"
     ]
    }
   ],
   "source": [
    "%load_ext autoreload\n",
    "%autoreload 2\n",
    "\n",
    "import pandas as pd\n",
    "import numpy as np\n",
    "import matplotlib.pyplot as plt\n",
    "import re\n",
    "\n",
    "%matplotlib inline"
   ]
  },
  {
   "cell_type": "code",
   "execution_count": 3,
   "metadata": {},
   "outputs": [
    {
     "name": "stderr",
     "output_type": "stream",
     "text": [
      "/Users/artemlukoyanov/anaconda3/lib/python3.7/site-packages/IPython/core/interactiveshell.py:3049: DtypeWarning: Columns (47) have mixed types. Specify dtype option on import or set low_memory=False.\n",
      "  interactivity=interactivity, compiler=compiler, result=result)\n"
     ]
    },
    {
     "data": {
      "text/html": [
       "<div>\n",
       "<style scoped>\n",
       "    .dataframe tbody tr th:only-of-type {\n",
       "        vertical-align: middle;\n",
       "    }\n",
       "\n",
       "    .dataframe tbody tr th {\n",
       "        vertical-align: top;\n",
       "    }\n",
       "\n",
       "    .dataframe thead th {\n",
       "        text-align: right;\n",
       "    }\n",
       "</style>\n",
       "<table border=\"1\" class=\"dataframe\">\n",
       "  <thead>\n",
       "    <tr style=\"text-align: right;\">\n",
       "      <th></th>\n",
       "      <th>GameId</th>\n",
       "      <th>PlayId</th>\n",
       "      <th>Team</th>\n",
       "      <th>X</th>\n",
       "      <th>Y</th>\n",
       "      <th>S</th>\n",
       "      <th>A</th>\n",
       "      <th>Dis</th>\n",
       "      <th>Orientation</th>\n",
       "      <th>Dir</th>\n",
       "      <th>...</th>\n",
       "      <th>Week</th>\n",
       "      <th>Stadium</th>\n",
       "      <th>Location</th>\n",
       "      <th>StadiumType</th>\n",
       "      <th>Turf</th>\n",
       "      <th>GameWeather</th>\n",
       "      <th>Temperature</th>\n",
       "      <th>Humidity</th>\n",
       "      <th>WindSpeed</th>\n",
       "      <th>WindDirection</th>\n",
       "    </tr>\n",
       "  </thead>\n",
       "  <tbody>\n",
       "    <tr>\n",
       "      <th>0</th>\n",
       "      <td>2017090700</td>\n",
       "      <td>20170907000118</td>\n",
       "      <td>away</td>\n",
       "      <td>73.91</td>\n",
       "      <td>34.84</td>\n",
       "      <td>1.69</td>\n",
       "      <td>1.13</td>\n",
       "      <td>0.40</td>\n",
       "      <td>81.99</td>\n",
       "      <td>177.18</td>\n",
       "      <td>...</td>\n",
       "      <td>1</td>\n",
       "      <td>Gillette Stadium</td>\n",
       "      <td>Foxborough, MA</td>\n",
       "      <td>Outdoor</td>\n",
       "      <td>Field Turf</td>\n",
       "      <td>Clear and warm</td>\n",
       "      <td>63.0</td>\n",
       "      <td>77.0</td>\n",
       "      <td>8</td>\n",
       "      <td>SW</td>\n",
       "    </tr>\n",
       "    <tr>\n",
       "      <th>1</th>\n",
       "      <td>2017090700</td>\n",
       "      <td>20170907000118</td>\n",
       "      <td>away</td>\n",
       "      <td>74.67</td>\n",
       "      <td>32.64</td>\n",
       "      <td>0.42</td>\n",
       "      <td>1.35</td>\n",
       "      <td>0.01</td>\n",
       "      <td>27.61</td>\n",
       "      <td>198.70</td>\n",
       "      <td>...</td>\n",
       "      <td>1</td>\n",
       "      <td>Gillette Stadium</td>\n",
       "      <td>Foxborough, MA</td>\n",
       "      <td>Outdoor</td>\n",
       "      <td>Field Turf</td>\n",
       "      <td>Clear and warm</td>\n",
       "      <td>63.0</td>\n",
       "      <td>77.0</td>\n",
       "      <td>8</td>\n",
       "      <td>SW</td>\n",
       "    </tr>\n",
       "    <tr>\n",
       "      <th>2</th>\n",
       "      <td>2017090700</td>\n",
       "      <td>20170907000118</td>\n",
       "      <td>away</td>\n",
       "      <td>74.00</td>\n",
       "      <td>33.20</td>\n",
       "      <td>1.22</td>\n",
       "      <td>0.59</td>\n",
       "      <td>0.31</td>\n",
       "      <td>3.01</td>\n",
       "      <td>202.73</td>\n",
       "      <td>...</td>\n",
       "      <td>1</td>\n",
       "      <td>Gillette Stadium</td>\n",
       "      <td>Foxborough, MA</td>\n",
       "      <td>Outdoor</td>\n",
       "      <td>Field Turf</td>\n",
       "      <td>Clear and warm</td>\n",
       "      <td>63.0</td>\n",
       "      <td>77.0</td>\n",
       "      <td>8</td>\n",
       "      <td>SW</td>\n",
       "    </tr>\n",
       "    <tr>\n",
       "      <th>3</th>\n",
       "      <td>2017090700</td>\n",
       "      <td>20170907000118</td>\n",
       "      <td>away</td>\n",
       "      <td>71.46</td>\n",
       "      <td>27.70</td>\n",
       "      <td>0.42</td>\n",
       "      <td>0.54</td>\n",
       "      <td>0.02</td>\n",
       "      <td>359.77</td>\n",
       "      <td>105.64</td>\n",
       "      <td>...</td>\n",
       "      <td>1</td>\n",
       "      <td>Gillette Stadium</td>\n",
       "      <td>Foxborough, MA</td>\n",
       "      <td>Outdoor</td>\n",
       "      <td>Field Turf</td>\n",
       "      <td>Clear and warm</td>\n",
       "      <td>63.0</td>\n",
       "      <td>77.0</td>\n",
       "      <td>8</td>\n",
       "      <td>SW</td>\n",
       "    </tr>\n",
       "    <tr>\n",
       "      <th>4</th>\n",
       "      <td>2017090700</td>\n",
       "      <td>20170907000118</td>\n",
       "      <td>away</td>\n",
       "      <td>69.32</td>\n",
       "      <td>35.42</td>\n",
       "      <td>1.82</td>\n",
       "      <td>2.43</td>\n",
       "      <td>0.16</td>\n",
       "      <td>12.63</td>\n",
       "      <td>164.31</td>\n",
       "      <td>...</td>\n",
       "      <td>1</td>\n",
       "      <td>Gillette Stadium</td>\n",
       "      <td>Foxborough, MA</td>\n",
       "      <td>Outdoor</td>\n",
       "      <td>Field Turf</td>\n",
       "      <td>Clear and warm</td>\n",
       "      <td>63.0</td>\n",
       "      <td>77.0</td>\n",
       "      <td>8</td>\n",
       "      <td>SW</td>\n",
       "    </tr>\n",
       "  </tbody>\n",
       "</table>\n",
       "<p>5 rows × 49 columns</p>\n",
       "</div>"
      ],
      "text/plain": [
       "       GameId          PlayId  Team      X      Y     S     A   Dis  \\\n",
       "0  2017090700  20170907000118  away  73.91  34.84  1.69  1.13  0.40   \n",
       "1  2017090700  20170907000118  away  74.67  32.64  0.42  1.35  0.01   \n",
       "2  2017090700  20170907000118  away  74.00  33.20  1.22  0.59  0.31   \n",
       "3  2017090700  20170907000118  away  71.46  27.70  0.42  0.54  0.02   \n",
       "4  2017090700  20170907000118  away  69.32  35.42  1.82  2.43  0.16   \n",
       "\n",
       "   Orientation     Dir  ...  Week           Stadium        Location  \\\n",
       "0        81.99  177.18  ...     1  Gillette Stadium  Foxborough, MA   \n",
       "1        27.61  198.70  ...     1  Gillette Stadium  Foxborough, MA   \n",
       "2         3.01  202.73  ...     1  Gillette Stadium  Foxborough, MA   \n",
       "3       359.77  105.64  ...     1  Gillette Stadium  Foxborough, MA   \n",
       "4        12.63  164.31  ...     1  Gillette Stadium  Foxborough, MA   \n",
       "\n",
       "   StadiumType        Turf     GameWeather Temperature Humidity  WindSpeed  \\\n",
       "0      Outdoor  Field Turf  Clear and warm        63.0     77.0          8   \n",
       "1      Outdoor  Field Turf  Clear and warm        63.0     77.0          8   \n",
       "2      Outdoor  Field Turf  Clear and warm        63.0     77.0          8   \n",
       "3      Outdoor  Field Turf  Clear and warm        63.0     77.0          8   \n",
       "4      Outdoor  Field Turf  Clear and warm        63.0     77.0          8   \n",
       "\n",
       "   WindDirection  \n",
       "0             SW  \n",
       "1             SW  \n",
       "2             SW  \n",
       "3             SW  \n",
       "4             SW  \n",
       "\n",
       "[5 rows x 49 columns]"
      ]
     },
     "execution_count": 3,
     "metadata": {},
     "output_type": "execute_result"
    }
   ],
   "source": [
    "raw_data = pd.read_csv('data/train.csv')\n",
    "raw_data.head()"
   ]
  },
  {
   "cell_type": "code",
   "execution_count": 4,
   "metadata": {},
   "outputs": [
    {
     "name": "stdout",
     "output_type": "stream",
     "text": [
      "<class 'pandas.core.frame.DataFrame'>\n",
      "RangeIndex: 509762 entries, 0 to 509761\n",
      "Data columns (total 49 columns):\n",
      "GameId                    509762 non-null int64\n",
      "PlayId                    509762 non-null int64\n",
      "Team                      509762 non-null object\n",
      "X                         509762 non-null float64\n",
      "Y                         509762 non-null float64\n",
      "S                         509762 non-null float64\n",
      "A                         509762 non-null float64\n",
      "Dis                       509762 non-null float64\n",
      "Orientation               509744 non-null float64\n",
      "Dir                       509748 non-null float64\n",
      "NflId                     509762 non-null int64\n",
      "DisplayName               509762 non-null object\n",
      "JerseyNumber              509762 non-null int64\n",
      "Season                    509762 non-null int64\n",
      "YardLine                  509762 non-null int64\n",
      "Quarter                   509762 non-null int64\n",
      "GameClock                 509762 non-null object\n",
      "PossessionTeam            509762 non-null object\n",
      "Down                      509762 non-null int64\n",
      "Distance                  509762 non-null int64\n",
      "FieldPosition             503338 non-null object\n",
      "HomeScoreBeforePlay       509762 non-null int64\n",
      "VisitorScoreBeforePlay    509762 non-null int64\n",
      "NflIdRusher               509762 non-null int64\n",
      "OffenseFormation          509652 non-null object\n",
      "OffensePersonnel          509762 non-null object\n",
      "DefendersInTheBox         509696 non-null float64\n",
      "DefensePersonnel          509762 non-null object\n",
      "PlayDirection             509762 non-null object\n",
      "TimeHandoff               509762 non-null object\n",
      "TimeSnap                  509762 non-null object\n",
      "Yards                     509762 non-null int64\n",
      "PlayerHeight              509762 non-null object\n",
      "PlayerWeight              509762 non-null int64\n",
      "PlayerBirthDate           509762 non-null object\n",
      "PlayerCollegeName         509762 non-null object\n",
      "Position                  509762 non-null object\n",
      "HomeTeamAbbr              509762 non-null object\n",
      "VisitorTeamAbbr           509762 non-null object\n",
      "Week                      509762 non-null int64\n",
      "Stadium                   509762 non-null object\n",
      "Location                  509762 non-null object\n",
      "StadiumType               476828 non-null object\n",
      "Turf                      509762 non-null object\n",
      "GameWeather               466114 non-null object\n",
      "Temperature               461230 non-null float64\n",
      "Humidity                  503602 non-null float64\n",
      "WindSpeed                 442332 non-null object\n",
      "WindDirection             429528 non-null object\n",
      "dtypes: float64(10), int64(15), object(24)\n",
      "memory usage: 190.6+ MB\n"
     ]
    }
   ],
   "source": [
    "raw_data.info()"
   ]
  },
  {
   "cell_type": "code",
   "execution_count": 5,
   "metadata": {},
   "outputs": [],
   "source": [
    "data = raw_data.copy()"
   ]
  },
  {
   "cell_type": "markdown",
   "metadata": {},
   "source": [
    "As we see some features may be null and have object type. Some of them like PlayerCollegeName or HomeTeamAbbr are just strings with the same format, but some need special processing:"
   ]
  },
  {
   "cell_type": "markdown",
   "metadata": {},
   "source": [
    "## String columns cleaning"
   ]
  },
  {
   "cell_type": "markdown",
   "metadata": {},
   "source": [
    "**GameClock** is represented as strig in format hh:mm:ss and **PlayerBirthDate** in string with format mm/dd/yyyy.\n",
    "In order to operate with it we will transform to the pd.datetime"
   ]
  },
  {
   "cell_type": "code",
   "execution_count": 8,
   "metadata": {},
   "outputs": [
    {
     "data": {
      "text/html": [
       "<div>\n",
       "<style scoped>\n",
       "    .dataframe tbody tr th:only-of-type {\n",
       "        vertical-align: middle;\n",
       "    }\n",
       "\n",
       "    .dataframe tbody tr th {\n",
       "        vertical-align: top;\n",
       "    }\n",
       "\n",
       "    .dataframe thead th {\n",
       "        text-align: right;\n",
       "    }\n",
       "</style>\n",
       "<table border=\"1\" class=\"dataframe\">\n",
       "  <thead>\n",
       "    <tr style=\"text-align: right;\">\n",
       "      <th></th>\n",
       "      <th>GameClock</th>\n",
       "      <th>PlayerBirthDate</th>\n",
       "    </tr>\n",
       "  </thead>\n",
       "  <tbody>\n",
       "    <tr>\n",
       "      <th>0</th>\n",
       "      <td>1900-01-01 14:14:00</td>\n",
       "      <td>1988-12-29</td>\n",
       "    </tr>\n",
       "    <tr>\n",
       "      <th>1</th>\n",
       "      <td>1900-01-01 14:14:00</td>\n",
       "      <td>1989-03-25</td>\n",
       "    </tr>\n",
       "    <tr>\n",
       "      <th>2</th>\n",
       "      <td>1900-01-01 14:14:00</td>\n",
       "      <td>1989-01-21</td>\n",
       "    </tr>\n",
       "    <tr>\n",
       "      <th>3</th>\n",
       "      <td>1900-01-01 14:14:00</td>\n",
       "      <td>1982-11-22</td>\n",
       "    </tr>\n",
       "    <tr>\n",
       "      <th>4</th>\n",
       "      <td>1900-01-01 14:14:00</td>\n",
       "      <td>1987-08-17</td>\n",
       "    </tr>\n",
       "  </tbody>\n",
       "</table>\n",
       "</div>"
      ],
      "text/plain": [
       "            GameClock PlayerBirthDate\n",
       "0 1900-01-01 14:14:00      1988-12-29\n",
       "1 1900-01-01 14:14:00      1989-03-25\n",
       "2 1900-01-01 14:14:00      1989-01-21\n",
       "3 1900-01-01 14:14:00      1982-11-22\n",
       "4 1900-01-01 14:14:00      1987-08-17"
      ]
     },
     "execution_count": 8,
     "metadata": {},
     "output_type": "execute_result"
    }
   ],
   "source": [
    "data['GameClock'] = pd.to_datetime(raw_data['GameClock'], format='%H:%M:%S')\n",
    "data['PlayerBirthDate'] = pd.to_datetime(raw_data['PlayerBirthDate'], format='%m/%d/%Y')\n",
    "data[['GameClock', 'PlayerBirthDate']].head()"
   ]
  },
  {
   "cell_type": "code",
   "execution_count": 9,
   "metadata": {},
   "outputs": [
    {
     "name": "stderr",
     "output_type": "stream",
     "text": [
      "/Users/artemlukoyanov/anaconda3/lib/python3.7/site-packages/pandas/plotting/_converter.py:129: FutureWarning: Using an implicitly registered datetime converter for a matplotlib plotting method. The converter was registered by pandas on import. Future versions of pandas will require you to explicitly register matplotlib converters.\n",
      "\n",
      "To register the converters:\n",
      "\t>>> from pandas.plotting import register_matplotlib_converters\n",
      "\t>>> register_matplotlib_converters()\n",
      "  warnings.warn(msg, FutureWarning)\n"
     ]
    },
    {
     "data": {
      "text/plain": [
       "<matplotlib.axes._subplots.AxesSubplot at 0x1083b8160>"
      ]
     },
     "execution_count": 9,
     "metadata": {},
     "output_type": "execute_result"
    },
    {
     "data": {
      "image/png": "[encoded data removed]",
      "text/plain": [
       "<Figure size 1008x288 with 1 Axes>"
      ]
     },
     "metadata": {
      "needs_background": "light"
     },
     "output_type": "display_data"
    }
   ],
   "source": [
    "data['PlayerBirthDate'].hist(figsize=(14, 4), bins=40)"
   ]
  },
  {
   "cell_type": "markdown",
   "metadata": {},
   "source": [
    "**PlayerHeight** is presented in one string with foots and inches in it. We will transform it to centimeters"
   ]
  },
  {
   "cell_type": "code",
   "execution_count": 10,
   "metadata": {},
   "outputs": [
    {
     "data": {
      "text/html": [
       "<div>\n",
       "<style scoped>\n",
       "    .dataframe tbody tr th:only-of-type {\n",
       "        vertical-align: middle;\n",
       "    }\n",
       "\n",
       "    .dataframe tbody tr th {\n",
       "        vertical-align: top;\n",
       "    }\n",
       "\n",
       "    .dataframe thead th {\n",
       "        text-align: right;\n",
       "    }\n",
       "</style>\n",
       "<table border=\"1\" class=\"dataframe\">\n",
       "  <thead>\n",
       "    <tr style=\"text-align: right;\">\n",
       "      <th></th>\n",
       "      <th>PlayerHeight</th>\n",
       "    </tr>\n",
       "  </thead>\n",
       "  <tbody>\n",
       "    <tr>\n",
       "      <th>0</th>\n",
       "      <td>6-0</td>\n",
       "    </tr>\n",
       "    <tr>\n",
       "      <th>1</th>\n",
       "      <td>6-3</td>\n",
       "    </tr>\n",
       "    <tr>\n",
       "      <th>2</th>\n",
       "      <td>6-3</td>\n",
       "    </tr>\n",
       "    <tr>\n",
       "      <th>3</th>\n",
       "      <td>6-3</td>\n",
       "    </tr>\n",
       "    <tr>\n",
       "      <th>4</th>\n",
       "      <td>6-0</td>\n",
       "    </tr>\n",
       "  </tbody>\n",
       "</table>\n",
       "</div>"
      ],
      "text/plain": [
       "  PlayerHeight\n",
       "0          6-0\n",
       "1          6-3\n",
       "2          6-3\n",
       "3          6-3\n",
       "4          6-0"
      ]
     },
     "execution_count": 10,
     "metadata": {},
     "output_type": "execute_result"
    }
   ],
   "source": [
    "raw_data[['PlayerHeight']].head()"
   ]
  },
  {
   "cell_type": "code",
   "execution_count": 11,
   "metadata": {},
   "outputs": [
    {
     "data": {
      "text/html": [
       "<div>\n",
       "<style scoped>\n",
       "    .dataframe tbody tr th:only-of-type {\n",
       "        vertical-align: middle;\n",
       "    }\n",
       "\n",
       "    .dataframe tbody tr th {\n",
       "        vertical-align: top;\n",
       "    }\n",
       "\n",
       "    .dataframe thead th {\n",
       "        text-align: right;\n",
       "    }\n",
       "</style>\n",
       "<table border=\"1\" class=\"dataframe\">\n",
       "  <thead>\n",
       "    <tr style=\"text-align: right;\">\n",
       "      <th></th>\n",
       "      <th>PlayerHeight</th>\n",
       "    </tr>\n",
       "  </thead>\n",
       "  <tbody>\n",
       "    <tr>\n",
       "      <th>0</th>\n",
       "      <td>182.88</td>\n",
       "    </tr>\n",
       "    <tr>\n",
       "      <th>1</th>\n",
       "      <td>190.50</td>\n",
       "    </tr>\n",
       "    <tr>\n",
       "      <th>2</th>\n",
       "      <td>190.50</td>\n",
       "    </tr>\n",
       "    <tr>\n",
       "      <th>3</th>\n",
       "      <td>190.50</td>\n",
       "    </tr>\n",
       "    <tr>\n",
       "      <th>4</th>\n",
       "      <td>182.88</td>\n",
       "    </tr>\n",
       "  </tbody>\n",
       "</table>\n",
       "</div>"
      ],
      "text/plain": [
       "   PlayerHeight\n",
       "0        182.88\n",
       "1        190.50\n",
       "2        190.50\n",
       "3        190.50\n",
       "4        182.88"
      ]
     },
     "execution_count": 11,
     "metadata": {},
     "output_type": "execute_result"
    }
   ],
   "source": [
    "def ft_in_to_cm(string):\n",
    "    foots, inches = string.split('-')\n",
    "    foots, inches = int(foots), int(inches)\n",
    "    return  30.48 * foots + 2.54 * inches\n",
    "\n",
    "data['PlayerHeight'] = raw_data['PlayerHeight'].apply(ft_in_to_cm)\n",
    "data[['PlayerHeight']].head()"
   ]
  },
  {
   "cell_type": "code",
   "execution_count": 12,
   "metadata": {},
   "outputs": [
    {
     "data": {
      "text/plain": [
       "<matplotlib.axes._subplots.AxesSubplot at 0x10541cfd0>"
      ]
     },
     "execution_count": 12,
     "metadata": {},
     "output_type": "execute_result"
    },
    {
     "data": {
      "image/png": "[encoded data removed]",
      "text/plain": [
       "<Figure size 432x288 with 1 Axes>"
      ]
     },
     "metadata": {
      "needs_background": "light"
     },
     "output_type": "display_data"
    }
   ],
   "source": [
    "data['PlayerHeight'].hist()"
   ]
  },
  {
   "cell_type": "markdown",
   "metadata": {},
   "source": [
    "**Stadium** is a string with name of stadium. As can we see from unique and sorted list of names there are some typos, which we will to correct "
   ]
  },
  {
   "cell_type": "code",
   "execution_count": 13,
   "metadata": {},
   "outputs": [
    {
     "name": "stdout",
     "output_type": "stream",
     "text": [
      "55 ['AT&T Stadium' 'Arrowhead Stadium' 'Bank of America Stadium'\n",
      " 'Broncos Stadium At Mile High' 'Broncos Stadium at Mile High'\n",
      " 'CenturyField' 'CenturyLink' 'CenturyLink Field' 'Estadio Azteca'\n",
      " 'EverBank Field' 'Everbank Field' 'FedExField' 'First Energy Stadium'\n",
      " 'FirstEnergy' 'FirstEnergy Stadium' 'FirstEnergyStadium' 'Ford Field'\n",
      " 'Gillette Stadium' 'Hard Rock Stadium' 'Heinz Field' 'Lambeau Field'\n",
      " 'Lambeau field' 'Levis Stadium' 'Lincoln Financial Field'\n",
      " 'Los Angeles Memorial Coliesum' 'Los Angeles Memorial Coliseum'\n",
      " 'Lucas Oil Stadium' 'M & T Bank Stadium' 'M&T Bank Stadium' 'M&T Stadium'\n",
      " 'Mercedes-Benz Dome' 'Mercedes-Benz Stadium' 'Mercedes-Benz Superdome'\n",
      " 'MetLife' 'MetLife Stadium' 'Metlife Stadium' 'NRG' 'NRG Stadium'\n",
      " 'New Era Field' 'Nissan Stadium' 'Oakland Alameda-County Coliseum'\n",
      " 'Oakland-Alameda County Coliseum' 'Paul Brown Stadium'\n",
      " 'Paul Brown Stdium' 'Raymond James Stadium' 'Soldier Field'\n",
      " 'Sports Authority Field at Mile High' 'State Farm Stadium'\n",
      " 'StubHub Center' 'TIAA Bank Field' 'Twickenham' 'Twickenham Stadium'\n",
      " 'U.S. Bank Stadium' 'University of Phoenix Stadium' 'Wembley Stadium']\n"
     ]
    }
   ],
   "source": [
    "stadiums = raw_data['Stadium'].unique()\n",
    "stadiums.sort()\n",
    "print(len(stadiums), stadiums)"
   ]
  },
  {
   "cell_type": "code",
   "execution_count": 14,
   "metadata": {},
   "outputs": [
    {
     "name": "stdout",
     "output_type": "stream",
     "text": [
      "39 ['AT&T Stadium' 'Arrowhead Stadium' 'Bank of America Stadium'\n",
      " 'Broncos Stadium at Mile High' 'CenturyField' 'CenturyLink'\n",
      " 'Estadio Azteca' 'EverBank Field' 'FedExField' 'First Energy Stadium'\n",
      " 'Ford Field' 'Gillette Stadium' 'Hard Rock Stadium' 'Heinz Field'\n",
      " 'Lambeau Field' 'Levis Stadium' 'Lincoln Financial Field'\n",
      " 'Los Angeles Memorial Coliseum' 'Lucas Oil Stadium' 'M&T Bank Stadium'\n",
      " 'Mercedes-Benz Dome' 'Mercedes-Benz Stadium' 'Mercedes-Benz Superdome'\n",
      " 'MetLife Stadium' 'NRG Stadium' 'New Era Field' 'Nissan Stadium'\n",
      " 'Oakland-Alameda County Coliseum' 'Paul Brown Stadium'\n",
      " 'Raymond James Stadium' 'Soldier Field'\n",
      " 'Sports Authority Field at Mile High' 'State Farm Stadium'\n",
      " 'StubHub Center' 'TIAA Bank Field' 'Twickenham Stadium'\n",
      " 'U.S. Bank Stadium' 'University of Phoenix Stadium' 'Wembley Stadium']\n"
     ]
    }
   ],
   "source": [
    "typos = {'Broncos Stadium At Mile High'   : 'Broncos Stadium at Mile High',\n",
    "         'CenturyLink Field'              : 'CenturyLink',\n",
    "         'Everbank Field'                 : 'EverBank Field',\n",
    "         'FirstEnergyStadium'             : 'First Energy Stadium',\n",
    "         'FirstEnergy'                    : 'First Energy Stadium',\n",
    "         'FirstEnergy Stadium'            : 'First Energy Stadium',\n",
    "         'Lambeau field'                  : 'Lambeau Field',\n",
    "         'Los Angeles Memorial Coliesum'  : 'Los Angeles Memorial Coliseum',\n",
    "         'M & T Bank Stadium'             : 'M&T Bank Stadium',\n",
    "         'M&T Stadium'                    : 'M&T Bank Stadium',\n",
    "         'MetLife'                        : 'MetLife Stadium',\n",
    "         'Metlife Stadium'                : 'MetLife Stadium',\n",
    "         'NRG'                            : 'NRG Stadium',\n",
    "         'Oakland Alameda-County Coliseum': 'Oakland-Alameda County Coliseum',\n",
    "         'Paul Brown Stdium'              : 'Paul Brown Stadium',\n",
    "         'Twickenham'                     : 'Twickenham Stadium'\n",
    "}\n",
    "\n",
    "data['Stadium'] = raw_data['Stadium'].apply(lambda x: typos[x] if x in typos.keys() else x)\n",
    "stadiums = data['Stadium'].unique()\n",
    "stadiums.sort()\n",
    "print(len(stadiums), stadiums)"
   ]
  },
  {
   "cell_type": "markdown",
   "metadata": {},
   "source": [
    "Google says that 'Mercedes-Benz Dome', 'Mercedes-Benz Stadium' and 'Mercedes-Benz Superdome' are 3 different stadiums."
   ]
  },
  {
   "cell_type": "code",
   "execution_count": 15,
   "metadata": {},
   "outputs": [
    {
     "data": {
      "text/plain": [
       "<matplotlib.axes._subplots.AxesSubplot at 0x118d67e10>"
      ]
     },
     "execution_count": 15,
     "metadata": {},
     "output_type": "execute_result"
    },
    {
     "data": {
      "image/png": "[encoded data removed]",
      "text/plain": [
       "<Figure size 1152x288 with 1 Axes>"
      ]
     },
     "metadata": {
      "needs_background": "light"
     },
     "output_type": "display_data"
    }
   ],
   "source": [
    "data[['Stadium']].apply(pd.value_counts).plot(kind='bar', figsize=(16, 4))"
   ]
  },
  {
   "cell_type": "markdown",
   "metadata": {},
   "source": [
    "**StadiumType** – a string which again contains a lot of typos. \n",
    "\n",
    "'Heinz Field' and 'Cloudy' are not even a stadium type, so we will look for its value in other rows, as well as for nans\n",
    "\n",
    "'Bowl' may be a type of stadion, but as we will see later it is seen only for one stadium together with other types, so we will also replace it with nan"
   ]
  },
  {
   "cell_type": "code",
   "execution_count": 16,
   "metadata": {
    "scrolled": true
   },
   "outputs": [
    {
     "name": "stdout",
     "output_type": "stream",
     "text": [
      "29 ['Bowl' 'Closed Dome' 'Cloudy' 'Dome' 'Dome, closed' 'Domed' 'Domed, Open'\n",
      " 'Domed, closed' 'Domed, open' 'Heinz Field' 'Indoor' 'Indoor, Open Roof'\n",
      " 'Indoor, Roof Closed' 'Indoors' 'Open' 'Oudoor' 'Ourdoor' 'Outddors'\n",
      " 'Outdoor' 'Outdoor Retr Roof-Open' 'Outdoors' 'Outdor' 'Outside'\n",
      " 'Retr. Roof - Closed' 'Retr. Roof - Open' 'Retr. Roof Closed'\n",
      " 'Retr. Roof-Closed' 'Retr. Roof-Open' 'Retractable Roof']\n"
     ]
    }
   ],
   "source": [
    "stadium_type = data['StadiumType'].dropna().unique()\n",
    "stadium_type.sort()\n",
    "print(len(stadium_type), stadium_type)"
   ]
  },
  {
   "cell_type": "code",
   "execution_count": 17,
   "metadata": {},
   "outputs": [
    {
     "name": "stdout",
     "output_type": "stream",
     "text": [
      "10 ['Closed' 'Dome' 'Dome-Closed' 'Dome-Open' 'Indoor' 'Indoor-Closed'\n",
      " 'Indoor-Open' 'Open' 'Outdoor' 'Retractable Roof']\n"
     ]
    }
   ],
   "source": [
    "typos = {'Closed Dome'            : 'Dome-Closed',\n",
    "         'Dome, closed'           : 'Dome-Closed',\n",
    "         'Domed'                  : 'Dome',\n",
    "         'Domed, closed'          : 'Dome-Closed',\n",
    "         'Domed, open'            : 'Dome-Open',\n",
    "         'Domed, Open'            : 'Dome-Open',\n",
    "         'Indoors'                : 'Indoor',\n",
    "         'Oudoor'                 : 'Outdoor',\n",
    "         'Ourdoor'                : 'Outdoor',\n",
    "         'Outddors'               : 'Outdoor',\n",
    "         'Outdoors'               : 'Outdoor',\n",
    "         'Outdor'                 : 'Outdoor',\n",
    "         'Outside'                : 'Outdoor',\n",
    "         'Retr. Roof Closed'      : 'Closed',\n",
    "         'Retr. Roof-Closed'      : 'Closed',\n",
    "         'Retr. Roof - Closed'    : 'Closed',\n",
    "         'Retr. Roof - Open'      : 'Open',\n",
    "         'Retr. Roof-Open'        : 'Open',\n",
    "         'Outdoor Retr Roof-Open' : 'Open',\n",
    "         'Indoor, Roof Closed'    : 'Indoor-Closed',\n",
    "         'Indoor, Open Roof'      : 'Indoor-Open',\n",
    "         'Heinz Field'            : np.nan,\n",
    "         'Cloudy'                 : np.nan,\n",
    "         'Bowl'                   : np.nan\n",
    "}\n",
    "\n",
    "data['StadiumType'] = raw_data['StadiumType'].apply(lambda x: typos[x] if x in typos.keys() else x)\n",
    "stadium_type = data['StadiumType'].dropna().unique()\n",
    "stadium_type.sort()\n",
    "print(len(stadium_type), stadium_type)"
   ]
  },
  {
   "cell_type": "code",
   "execution_count": 18,
   "metadata": {},
   "outputs": [
    {
     "data": {
      "text/plain": [
       "Stadium\n",
       "AT&T Stadium                                                 [Indoor, Outdoor]\n",
       "Arrowhead Stadium                                                    [Outdoor]\n",
       "Bank of America Stadium                                              [Outdoor]\n",
       "Broncos Stadium at Mile High                                         [Outdoor]\n",
       "CenturyField                                                         [Outdoor]\n",
       "CenturyLink                                                          [Outdoor]\n",
       "Estadio Azteca                                                       [Outdoor]\n",
       "EverBank Field                                                          [Open]\n",
       "FedExField                                                           [Outdoor]\n",
       "First Energy Stadium                                                 [Outdoor]\n",
       "Ford Field                                                            [Indoor]\n",
       "Gillette Stadium                                                     [Outdoor]\n",
       "Hard Rock Stadium                                                    [Outdoor]\n",
       "Heinz Field                                                     [Outdoor, nan]\n",
       "Lambeau Field                                                        [Outdoor]\n",
       "Levis Stadium                                                        [Outdoor]\n",
       "Lincoln Financial Field                                              [Outdoor]\n",
       "Los Angeles Memorial Coliseum                                        [Outdoor]\n",
       "Lucas Oil Stadium                                               [Closed, Open]\n",
       "M&T Bank Stadium                                                     [Outdoor]\n",
       "Mercedes-Benz Dome                                               [Indoor-Open]\n",
       "Mercedes-Benz Stadium                  [Dome-Closed, Indoor-Closed, Dome-Open]\n",
       "Mercedes-Benz Superdome                                         [Indoor, Dome]\n",
       "MetLife Stadium                                                 [nan, Outdoor]\n",
       "NRG Stadium                                                 [Retractable Roof]\n",
       "New Era Field                                                        [Outdoor]\n",
       "Nissan Stadium                                                       [Outdoor]\n",
       "Oakland-Alameda County Coliseum                                      [Outdoor]\n",
       "Paul Brown Stadium                                                   [Outdoor]\n",
       "Raymond James Stadium                                                [Outdoor]\n",
       "Soldier Field                                                        [Outdoor]\n",
       "Sports Authority Field at Mile High                                  [Outdoor]\n",
       "State Farm Stadium                                                      [Dome]\n",
       "StubHub Center                                                           [nan]\n",
       "TIAA Bank Field                                           [Open, Outdoor, nan]\n",
       "Twickenham Stadium                                                   [Outdoor]\n",
       "U.S. Bank Stadium                                                     [Indoor]\n",
       "University of Phoenix Stadium                                     [Dome, Open]\n",
       "Wembley Stadium                                                      [Outdoor]\n",
       "Name: StadiumType, dtype: object"
      ]
     },
     "execution_count": 18,
     "metadata": {},
     "output_type": "execute_result"
    }
   ],
   "source": [
    "data.groupby(by=['Stadium'])['StadiumType'].unique()"
   ]
  },
  {
   "cell_type": "markdown",
   "metadata": {},
   "source": [
    "Google says that StubHub Center is outdoor stadium, AT&T Stadium is indoor, for others we just substitude nans"
   ]
  },
  {
   "cell_type": "code",
   "execution_count": 19,
   "metadata": {},
   "outputs": [],
   "source": [
    "data.loc[data['Stadium'] == 'StubHub Center', 'StadiumType'] = 'Outdoor'\n",
    "data.loc[data['Stadium'] == 'AT&T Stadium', 'StadiumType'] = 'Indoor'\n",
    "data.loc[data['Stadium'] == 'Heinz Field', 'StadiumType'] = 'Outdoor'\n",
    "data.loc[data['Stadium'] == 'MetLife Stadium', 'StadiumType'] = 'Outdoor'\n",
    "data.loc[data['Stadium'] == 'TIAA Bank Field', 'StadiumType'] = 'Outdoor' # TODO there is a second value"
   ]
  },
  {
   "cell_type": "code",
   "execution_count": 20,
   "metadata": {},
   "outputs": [
    {
     "data": {
      "text/plain": [
       "Stadium\n",
       "AT&T Stadium                                                          [Indoor]\n",
       "Arrowhead Stadium                                                    [Outdoor]\n",
       "Bank of America Stadium                                              [Outdoor]\n",
       "Broncos Stadium at Mile High                                         [Outdoor]\n",
       "CenturyField                                                         [Outdoor]\n",
       "CenturyLink                                                          [Outdoor]\n",
       "Estadio Azteca                                                       [Outdoor]\n",
       "EverBank Field                                                          [Open]\n",
       "FedExField                                                           [Outdoor]\n",
       "First Energy Stadium                                                 [Outdoor]\n",
       "Ford Field                                                            [Indoor]\n",
       "Gillette Stadium                                                     [Outdoor]\n",
       "Hard Rock Stadium                                                    [Outdoor]\n",
       "Heinz Field                                                          [Outdoor]\n",
       "Lambeau Field                                                        [Outdoor]\n",
       "Levis Stadium                                                        [Outdoor]\n",
       "Lincoln Financial Field                                              [Outdoor]\n",
       "Los Angeles Memorial Coliseum                                        [Outdoor]\n",
       "Lucas Oil Stadium                                               [Closed, Open]\n",
       "M&T Bank Stadium                                                     [Outdoor]\n",
       "Mercedes-Benz Dome                                               [Indoor-Open]\n",
       "Mercedes-Benz Stadium                  [Dome-Closed, Indoor-Closed, Dome-Open]\n",
       "Mercedes-Benz Superdome                                         [Indoor, Dome]\n",
       "MetLife Stadium                                                      [Outdoor]\n",
       "NRG Stadium                                                 [Retractable Roof]\n",
       "New Era Field                                                        [Outdoor]\n",
       "Nissan Stadium                                                       [Outdoor]\n",
       "Oakland-Alameda County Coliseum                                      [Outdoor]\n",
       "Paul Brown Stadium                                                   [Outdoor]\n",
       "Raymond James Stadium                                                [Outdoor]\n",
       "Soldier Field                                                        [Outdoor]\n",
       "Sports Authority Field at Mile High                                  [Outdoor]\n",
       "State Farm Stadium                                                      [Dome]\n",
       "StubHub Center                                                       [Outdoor]\n",
       "TIAA Bank Field                                                      [Outdoor]\n",
       "Twickenham Stadium                                                   [Outdoor]\n",
       "U.S. Bank Stadium                                                     [Indoor]\n",
       "University of Phoenix Stadium                                     [Dome, Open]\n",
       "Wembley Stadium                                                      [Outdoor]\n",
       "Name: StadiumType, dtype: object"
      ]
     },
     "execution_count": 20,
     "metadata": {},
     "output_type": "execute_result"
    }
   ],
   "source": [
    "data.groupby(by=['Stadium'])['StadiumType'].unique()"
   ]
  },
  {
   "cell_type": "markdown",
   "metadata": {},
   "source": [
    "That is much better!"
   ]
  },
  {
   "cell_type": "code",
   "execution_count": 21,
   "metadata": {},
   "outputs": [
    {
     "data": {
      "text/plain": [
       "<matplotlib.axes._subplots.AxesSubplot at 0x11b588a58>"
      ]
     },
     "execution_count": 21,
     "metadata": {},
     "output_type": "execute_result"
    },
    {
     "data": {
      "image/png": "[encoded data removed]",
      "text/plain": [
       "<Figure size 1152x288 with 1 Axes>"
      ]
     },
     "metadata": {
      "needs_background": "light"
     },
     "output_type": "display_data"
    }
   ],
   "source": [
    "data[['StadiumType']].apply(pd.value_counts).plot(kind='bar', figsize=(16, 4))"
   ]
  },
  {
   "cell_type": "markdown",
   "metadata": {},
   "source": [
    "TODO: Separate on several variables - indoor/outdoor/dome + open/closed, Where is retractable?\n",
    "\n",
    "TODO: Is it any differenve between Dome and outdoor? "
   ]
  },
  {
   "cell_type": "markdown",
   "metadata": {},
   "source": [
    "**Turf** - again typos"
   ]
  },
  {
   "cell_type": "code",
   "execution_count": 22,
   "metadata": {},
   "outputs": [
    {
     "name": "stdout",
     "output_type": "stream",
     "text": [
      "20 ['A-Turf Titan' 'Artifical' 'Artificial' 'DD GrassMaster' 'Field Turf'\n",
      " 'Field turf' 'FieldTurf' 'FieldTurf 360' 'FieldTurf360' 'Grass' 'Natural'\n",
      " 'Natural Grass' 'Natural grass' 'Naturall Grass' 'SISGrass'\n",
      " 'Twenty-Four/Seven Turf' 'UBU Speed Series-S5-M' 'UBU Sports Speed S5-M'\n",
      " 'grass' 'natural grass']\n"
     ]
    }
   ],
   "source": [
    "turf = data['Turf'].dropna().unique()\n",
    "turf.sort()\n",
    "print(len(turf), turf)"
   ]
  },
  {
   "cell_type": "code",
   "execution_count": 23,
   "metadata": {},
   "outputs": [
    {
     "name": "stdout",
     "output_type": "stream",
     "text": [
      "10 ['A-Turf Titan' 'Artificial' 'DD GrassMaster' 'Field Turf' 'FieldTurf 360'\n",
      " 'Grass' 'Natural Grass' 'SISGrass' 'Twenty-Four/Seven Turf'\n",
      " 'UBU Sports Speed S5-M']\n"
     ]
    }
   ],
   "source": [
    "typos = {'Natural grass'         : 'Natural Grass',\n",
    "         'Naturall Grass'        : 'Natural Grass',\n",
    "         'natural grass'         : 'Natural Grass',\n",
    "         'Artifical'             : 'Artificial',\n",
    "         'grass'                 : 'Grass',\n",
    "         'Natural'               : 'Natural Grass',\n",
    "         'FieldTurf360'          : 'FieldTurf 360',\n",
    "         'Field turf'            : 'Field Turf',\n",
    "         'FieldTurf'             : 'Field Turf',\n",
    "         'UBU Speed Series-S5-M' : 'UBU Sports Speed S5-M'\n",
    "}\n",
    "\n",
    "data['Turf'] = raw_data['Turf'].apply(lambda x: typos[x] if x in typos.keys() else x)\n",
    "turf = data['Turf'].dropna().unique()\n",
    "turf.sort()\n",
    "print(len(turf), turf)"
   ]
  },
  {
   "cell_type": "code",
   "execution_count": 24,
   "metadata": {},
   "outputs": [
    {
     "data": {
      "text/plain": [
       "<matplotlib.axes._subplots.AxesSubplot at 0x118bf9908>"
      ]
     },
     "execution_count": 24,
     "metadata": {},
     "output_type": "execute_result"
    },
    {
     "data": {
      "image/png": "[encoded data removed]",
      "text/plain": [
       "<Figure size 1152x288 with 1 Axes>"
      ]
     },
     "metadata": {
      "needs_background": "light"
     },
     "output_type": "display_data"
    }
   ],
   "source": [
    "data[['Turf']].apply(pd.value_counts).plot(kind='bar', figsize=(16, 4))"
   ]
  },
  {
   "cell_type": "code",
   "execution_count": null,
   "metadata": {},
   "outputs": [],
   "source": []
  },
  {
   "cell_type": "markdown",
   "metadata": {},
   "source": [
    "**WindDirection**"
   ]
  },
  {
   "cell_type": "code",
   "execution_count": 50,
   "metadata": {},
   "outputs": [
    {
     "name": "stdout",
     "output_type": "stream",
     "text": [
      "53 ['1' '13' '8' 'Calm' 'E' 'EAST' 'ENE' 'ESE' 'East' 'East North East'\n",
      " 'East Southeast' 'From ESE' 'From NNE' 'From NNW' 'From S' 'From SSE'\n",
      " 'From SSW' 'From SW' 'From W' 'From WSW' 'N' 'N-NE' 'NE' 'NNE' 'NNW' 'NW'\n",
      " 'North' 'North East' 'North/Northwest' 'NorthEast' 'Northeast'\n",
      " 'Northwest' 'S' 'SE' 'SSE' 'SSW' 'SW' 'South' 'South Southeast'\n",
      " 'South Southwest' 'SouthWest' 'Southeast' 'Southwest' 'W' 'W-NW' 'W-SW'\n",
      " 'WNW' 'WSW' 'West' 'West Northwest' 'West-Southwest' 'from W' 's']\n"
     ]
    }
   ],
   "source": [
    "wind = raw_data['WindDirection'].dropna().unique()\n",
    "wind.sort()\n",
    "print(len(wind), wind)"
   ]
  },
  {
   "cell_type": "markdown",
   "metadata": {},
   "source": [
    "The data is super dirty. At first we will get rid of 'From' suffix and '-' between cardinal directions"
   ]
  },
  {
   "cell_type": "code",
   "execution_count": 51,
   "metadata": {},
   "outputs": [
    {
     "name": "stdout",
     "output_type": "stream",
     "text": [
      "35 ['1' '13' '8' 'CALM' 'E' 'EAST' 'EASTNORTHEAST' 'EASTSOUTHEAST' 'ENE'\n",
      " 'ESE' 'N' 'NE' 'NNE' 'NNW' 'NORTH' 'NORTH/NORTHWEST' 'NORTHEAST'\n",
      " 'NORTHWEST' 'NW' 'S' 'SE' 'SOUTH' 'SOUTHEAST' 'SOUTHSOUTHEAST'\n",
      " 'SOUTHSOUTHWEST' 'SOUTHWEST' 'SSE' 'SSW' 'SW' 'W' 'WEST' 'WESTNORTHWEST'\n",
      " 'WESTSOUTHWEST' 'WNW' 'WSW']\n"
     ]
    }
   ],
   "source": [
    "data['WindDirection'] = raw_data['WindDirection'].str.upper()\\\n",
    "                                                 .str.replace(' ', '')\\\n",
    "                                                 .str.replace('FROM', '')\\\n",
    "                                                 .str.replace('-', '')\n",
    "\n",
    "wind = data['WindDirection'].dropna().unique()\n",
    "wind.sort()\n",
    "print(len(wind), wind)"
   ]
  },
  {
   "cell_type": "markdown",
   "metadata": {},
   "source": [
    "Next we will unify all directions"
   ]
  },
  {
   "cell_type": "code",
   "execution_count": 53,
   "metadata": {},
   "outputs": [
    {
     "name": "stdout",
     "output_type": "stream",
     "text": [
      "20 ['1' '13' '8' 'CALM' 'E' 'ENE' 'ESE' 'N' 'NE' 'NNE' 'NNW' 'NW' 'S' 'SE'\n",
      " 'SSE' 'SSW' 'SW' 'W' 'WNW' 'WSW']\n"
     ]
    }
   ],
   "source": [
    "to_replace = {\n",
    "              'NORTH/NORTHWEST'   : 'NNW',\n",
    "              'SOUTHEAST'         : 'SE',\n",
    "              'SOUTHWEST'         : 'SW',\n",
    "              'NORTHEAST'         : 'NE',\n",
    "              'NORTHWEST'         : 'NW',\n",
    "              'EAST'              : 'E',\n",
    "              'NORTH'             : 'N',\n",
    "              'SOUTH'             : 'S',\n",
    "              'WEST'              : 'W'\n",
    "}\n",
    "\n",
    "for word in to_replace.keys():\n",
    "    data['WindDirection'] = data['WindDirection'].str.replace(word, to_replace[word])\n",
    "\n",
    "wind = data['WindDirection'].dropna().unique()\n",
    "wind.sort()\n",
    "print(len(wind), wind)"
   ]
  },
  {
   "cell_type": "markdown",
   "metadata": {},
   "source": [
    "And finally we will substitute numbers with nones as it is obviously a mistake"
   ]
  },
  {
   "cell_type": "code",
   "execution_count": 55,
   "metadata": {},
   "outputs": [
    {
     "name": "stdout",
     "output_type": "stream",
     "text": [
      "17 ['CALM' 'E' 'ENE' 'ESE' 'N' 'NE' 'NNE' 'NNW' 'NW' 'S' 'SE' 'SSE' 'SSW'\n",
      " 'SW' 'W' 'WNW' 'WSW']\n"
     ]
    }
   ],
   "source": [
    "to_replace = {'1'   : np.nan,\n",
    "              '13'  : np.nan,\n",
    "              '8'   : np.nan\n",
    "}\n",
    "\n",
    "data['WindDirection'] = data['WindDirection'].apply(lambda x: to_replace[x] if x in to_replace.keys() else x)\n",
    "\n",
    "wind = data['WindDirection'].dropna().unique()\n",
    "wind.sort()\n",
    "print(len(wind), wind)"
   ]
  },
  {
   "cell_type": "code",
   "execution_count": 112,
   "metadata": {},
   "outputs": [
    {
     "data": {
      "image/png": "[encoded data removed]",
      "text/plain": [
       "<Figure size 432x432 with 1 Axes>"
      ]
     },
     "metadata": {
      "needs_background": "light"
     },
     "output_type": "display_data"
    }
   ],
   "source": [
    "plt.figure(figsize=(6, 6))\n",
    "directions = data[data['WindDirection'] != 'CALM']['WindDirection'].dropna().value_counts()\n",
    "directions = directions.reindex(index=['E', 'ENE', 'NE', 'NNE', \n",
    "                                       'N', 'NNW', 'NW', 'WNW', \n",
    "                                       'W', 'WSW', 'SW', 'SSW', \n",
    "                                       'S', 'SSE', 'SE', 'ESE'])\n",
    "\n",
    "theta = np.linspace(0.0, 2 * np.pi, len(directions), endpoint=False)\n",
    "ax = plt.subplot(111, polar=True)\n",
    "bars = ax.bar(theta, directions.values, width = (2*np.pi) / len(directions))\n",
    "ax.set_xticklabels(['E', 'NE', 'N', 'NW', 'W', 'SW', 'S', 'SE'])\n",
    "ax.set_yticklabels([])\n",
    "\n",
    "plt.show()"
   ]
  },
  {
   "cell_type": "markdown",
   "metadata": {},
   "source": [
    "**WindSpeed**"
   ]
  },
  {
   "cell_type": "code",
   "execution_count": 113,
   "metadata": {},
   "outputs": [
    {
     "name": "stdout",
     "output_type": "stream",
     "text": [
      "58 [8.0 6.0 10.0 9.0 11.0 7.0 5.0 2.0 12.0 1 3 4 13 '10' '5' '6' '4' '8' '0'\n",
      " 'SSW' 14.0 0.0 15.0 17.0 18.0 16.0 '11-17' '16' '14' '13' '12' '23' '7'\n",
      " '9' '3' '17' '14-23' '1' '13 MPH' 24.0 '15' '12-22' '2' '4 MPh'\n",
      " '15 gusts up to 25' '11' '10MPH' '10mph' '22' 'E' '7 MPH' 'Calm' '6 mph'\n",
      " '19' 'SE' '20' '10-20' '12mph']\n"
     ]
    }
   ],
   "source": [
    "windSpeed = raw_data['WindSpeed'].dropna().unique()\n",
    "print(len(windSpeed), windSpeed)"
   ]
  },
  {
   "cell_type": "markdown",
   "metadata": {},
   "source": [
    "The data is very ununiform =( Some of the values are floats, some integers, some strings and some are even intervals. Ok, let's clear it"
   ]
  },
  {
   "cell_type": "code",
   "execution_count": 141,
   "metadata": {
    "code_folding": []
   },
   "outputs": [],
   "source": [
    "def process_raw_speed(speed):\n",
    "    # try to simply convert to int\n",
    "    try:\n",
    "        return float(speed)\n",
    "    except ValueError:\n",
    "        pass\n",
    "\n",
    "    if isinstance(speed, str): \n",
    "        numbers = [int(s) for s in re.findall(r'[0-9]+', speed)]\n",
    "        if len(numbers) == 0:\n",
    "            return np.nan\n",
    "\n",
    "        # we will sumstitude intervals with its mean\n",
    "        return np.mean(numbers)\n",
    "    \n",
    "    return speed\n",
    "    \n",
    "data['WindSpeed'] = raw_data['WindSpeed'].apply(process_raw_speed)"
   ]
  },
  {
   "cell_type": "code",
   "execution_count": 145,
   "metadata": {},
   "outputs": [
    {
     "data": {
      "text/plain": [
       "<matplotlib.axes._subplots.AxesSubplot at 0x123093400>"
      ]
     },
     "execution_count": 145,
     "metadata": {},
     "output_type": "execute_result"
    },
    {
     "data": {
      "image/png": "[encoded data removed]",
      "text/plain": [
       "<Figure size 1008x288 with 1 Axes>"
      ]
     },
     "metadata": {
      "needs_background": "light"
     },
     "output_type": "display_data"
    }
   ],
   "source": [
    "data['WindSpeed'].hist(figsize=(14, 4), bins=20)"
   ]
  },
  {
   "cell_type": "markdown",
   "metadata": {},
   "source": [
    "**GameWeather** is the most difficult column for processing"
   ]
  },
  {
   "cell_type": "code",
   "execution_count": 147,
   "metadata": {},
   "outputs": [
    {
     "name": "stdout",
     "output_type": "stream",
     "text": [
      "54 ['30% chance of rain' 'clear' 'clear and cold' 'clear and cool'\n",
      " 'clear and sunny' 'clear and warm' 'clear skies' 'cloudy'\n",
      " 'cloudy and cold' 'cloudy and cool'\n",
      " 'cloudy with periods of rain, thunder possible. winds shifting to wnw, 10-20 mph.'\n",
      " 'cloudy, 50% change of rain' 'cloudy, chance of rain'\n",
      " 'cloudy, fog started developing in 2nd quarter'\n",
      " 'cloudy, light snow accumulating 1-3\"' 'cloudy, rain' 'cold'\n",
      " 'controlled climate' 'coudy' 'fair' 'hazy' 'heavy lake effect snow'\n",
      " 'indoor' 'indoors' 'light rain' 'mostly cloudy' 'mostly coudy'\n",
      " 'mostly sunny' 'mostly sunny skies' 'n/a (indoors)' 'n/a indoor'\n",
      " 'overcast' 'partly clear' 'partly cloudy' 'partly clouidy' 'partly sunny'\n",
      " 'party cloudy' 'rain' 'rain chance 40%' 'rain likely, temps in low 40s.'\n",
      " 'rain shower' 'rainy' 'scattered showers' 'showers' 'snow' 'sun & clouds'\n",
      " 'sunny' 'sunny and clear' 'sunny and cold' 'sunny and warm' 'sunny skies'\n",
      " 'sunny, highs to upper 80s' 'sunny, windy' 't: 51; h: 55; w: nw 10 mph']\n"
     ]
    }
   ],
   "source": [
    "weather = data['GameWeather'].str.lower().dropna().unique()\n",
    "weather.sort()\n",
    "print(len(weather), weather)"
   ]
  },
  {
   "cell_type": "code",
   "execution_count": null,
   "metadata": {},
   "outputs": [],
   "source": [
    "TODO: decide what to do with it "
   ]
  },
  {
   "cell_type": "markdown",
   "metadata": {
    "code_folding": []
   },
   "source": [
    "### OffensePersonnel / DefencePersonnel"
   ]
  },
  {
   "cell_type": "markdown",
   "metadata": {},
   "source": [
    "### TimeHandoff, TimeSnap\n",
    "\n",
    "Parse it to the datetime"
   ]
  },
  {
   "cell_type": "code",
   "execution_count": null,
   "metadata": {},
   "outputs": [],
   "source": []
  }
 ],
 "metadata": {
  "kernelspec": {
   "display_name": "Python 3",
   "language": "python",
   "name": "python3"
  },
  "language_info": {
   "codemirror_mode": {
    "name": "ipython",
    "version": 3
   },
   "file_extension": ".py",
   "mimetype": "text/x-python",
   "name": "python",
   "nbconvert_exporter": "python",
   "pygments_lexer": "ipython3",
   "version": "3.7.0"
  }
 },
 "nbformat": 4,
 "nbformat_minor": 2
}
